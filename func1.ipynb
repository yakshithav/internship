{
  "nbformat": 4,
  "nbformat_minor": 0,
  "metadata": {
    "colab": {
      "name": "func1.ipynb",
      "version": "0.3.2",
      "provenance": [],
      "collapsed_sections": [],
      "include_colab_link": true
    },
    "kernelspec": {
      "name": "python3",
      "display_name": "Python 3"
    }
  },
  "cells": [
    {
      "cell_type": "markdown",
      "metadata": {
        "id": "view-in-github",
        "colab_type": "text"
      },
      "source": [
        "<a href=\"https://colab.research.google.com/github/yakshithav/internship/blob/master/func1.ipynb\" target=\"_parent\"><img src=\"https://colab.research.google.com/assets/colab-badge.svg\" alt=\"Open In Colab\"/></a>"
      ]
    },
    {
      "cell_type": "markdown",
      "metadata": {
        "id": "jrU8wxFWfTzg",
        "colab_type": "text"
      },
      "source": [
        "Fuctions "
      ]
    },
    {
      "cell_type": "code",
      "metadata": {
        "id": "kN0hWzASfLcq",
        "colab_type": "code",
        "outputId": "81e36617-9319-42ac-dd0d-2b21e50085f5",
        "colab": {
          "base_uri": "https://localhost:8080/",
          "height": 176
        }
      },
      "source": [
        "def is_prime(n):\n",
        "    for i in range(2,n):\n",
        "        if n % i ==0:\n",
        "            return False\n",
        "    return True\n",
        "  \n",
        "n=input(\"enter a number:\")\n",
        "for x in range(2,int(n)):\n",
        "    if is_prime(x):\n",
        "       print(x,\"is prime\")\n",
        "    else:\n",
        "       print(x,\"is not prime\")"
      ],
      "execution_count": 0,
      "outputs": [
        {
          "output_type": "stream",
          "text": [
            "enter a number:10\n",
            "2 is prime\n",
            "3 is prime\n",
            "4 is not prime\n",
            "5 is prime\n",
            "6 is not prime\n",
            "7 is prime\n",
            "8 is not prime\n",
            "9 is not prime\n"
          ],
          "name": "stdout"
        }
      ]
    },
    {
      "cell_type": "code",
      "metadata": {
        "id": "8sLnudksn4mE",
        "colab_type": "code",
        "outputId": "cdc2580e-6127-45bf-8ba7-cfe7fc9ab666",
        "colab": {
          "base_uri": "https://localhost:8080/",
          "height": 52
        }
      },
      "source": [
        "number=int(input(\"enter any number:\"))\n",
        "if number > 1:\n",
        "  for i in range(2,number):\n",
        "    if (number % i)==0:\n",
        "      print(number,\"is not  a prime number\")\n",
        "      break\n",
        "  else:\n",
        "        print(number,\"is a prime number\")\n",
        "else:\n",
        "   print(number,\" is not a prime number\")"
      ],
      "execution_count": 0,
      "outputs": [
        {
          "output_type": "stream",
          "text": [
            "enter any number:35\n",
            "35 is not  a prime number\n"
          ],
          "name": "stdout"
        }
      ]
    },
    {
      "cell_type": "code",
      "metadata": {
        "id": "PIx9eWYvuH0C",
        "colab_type": "code",
        "outputId": "89e48b52-0ae5-4ae4-a321-fc932d40c4d8",
        "colab": {
          "base_uri": "https://localhost:8080/",
          "height": 34
        }
      },
      "source": [
        "start=1\n",
        "end=100\n",
        "for num in range (start,end+1):\n",
        "    if num % 2 ==0:\n",
        "        print(num,end=\" \")"
      ],
      "execution_count": 0,
      "outputs": [
        {
          "output_type": "stream",
          "text": [
            "2 4 6 8 10 12 14 16 18 20 22 24 26 28 30 32 34 36 38 40 42 44 46 48 50 52 54 56 58 60 62 64 66 68 70 72 74 76 78 80 82 84 86 88 90 92 94 96 98 100 "
          ],
          "name": "stdout"
        }
      ]
    },
    {
      "cell_type": "markdown",
      "metadata": {
        "id": "YIZgNzjT3AVI",
        "colab_type": "text"
      },
      "source": [
        "checking even or odd"
      ]
    },
    {
      "cell_type": "code",
      "metadata": {
        "id": "XtgVZxN4v9Ky",
        "colab_type": "code",
        "outputId": "b5061735-4032-43a8-b088-45f6923c9afd",
        "colab": {
          "base_uri": "https://localhost:8080/",
          "height": 52
        }
      },
      "source": [
        "num=int(input(\"enter any number:\"))\n",
        "mod = num % 2\n",
        "if mod > 0:\n",
        "   print(\"this is an odd number\")\n",
        "else:\n",
        "   print(\"this is an even number\")\n",
        "    "
      ],
      "execution_count": 0,
      "outputs": [
        {
          "output_type": "stream",
          "text": [
            "enter any number:2\n",
            "this is an even number\n"
          ],
          "name": "stdout"
        }
      ]
    },
    {
      "cell_type": "code",
      "metadata": {
        "id": "mLjWo1PG2upA",
        "colab_type": "code",
        "colab": {
          "base_uri": "https://localhost:8080/",
          "height": 203
        },
        "outputId": "774988cf-2ff2-4431-fe45-f9899c1ac648"
      },
      "source": [
        "res=[[test_list[i],test_list[i+1]]\n",
        "     for i in range (len(test_list)-1)]\n",
        "print(\"the consecutive element list is :\"+ str(res))"
      ],
      "execution_count": 1,
      "outputs": [
        {
          "output_type": "error",
          "ename": "NameError",
          "evalue": "ignored",
          "traceback": [
            "\u001b[0;31m---------------------------------------------------------------------------\u001b[0m",
            "\u001b[0;31mNameError\u001b[0m                                 Traceback (most recent call last)",
            "\u001b[0;32m<ipython-input-1-e1daaef13071>\u001b[0m in \u001b[0;36m<module>\u001b[0;34m()\u001b[0m\n\u001b[1;32m      1\u001b[0m res=[[test_list[i],test_list[i+1]]\n\u001b[0;32m----> 2\u001b[0;31m      for i in range (len(test_list)-1)]\n\u001b[0m\u001b[1;32m      3\u001b[0m \u001b[0mprint\u001b[0m\u001b[0;34m(\u001b[0m\u001b[0;34m\"the consecutive element list is :\"\u001b[0m\u001b[0;34m+\u001b[0m \u001b[0mstr\u001b[0m\u001b[0;34m(\u001b[0m\u001b[0mres\u001b[0m\u001b[0;34m)\u001b[0m\u001b[0;34m)\u001b[0m\u001b[0;34m\u001b[0m\u001b[0;34m\u001b[0m\u001b[0m\n",
            "\u001b[0;31mNameError\u001b[0m: name 'test_list' is not defined"
          ]
        }
      ]
    }
  ]
}