{
  "nbformat": 4,
  "nbformat_minor": 0,
  "metadata": {
    "colab": {
      "name": "ml1.ipynb",
      "version": "0.3.2",
      "provenance": [],
      "collapsed_sections": [],
      "include_colab_link": true
    },
    "kernelspec": {
      "name": "python3",
      "display_name": "Python 3"
    }
  },
  "cells": [
    {
      "cell_type": "markdown",
      "metadata": {
        "id": "view-in-github",
        "colab_type": "text"
      },
      "source": [
        "<a href=\"https://colab.research.google.com/github/yakshithav/internship/blob/master/ml1.ipynb\" target=\"_parent\"><img src=\"https://colab.research.google.com/assets/colab-badge.svg\" alt=\"Open In Colab\"/></a>"
      ]
    },
    {
      "cell_type": "markdown",
      "metadata": {
        "id": "2m-5NYTHjkbE",
        "colab_type": "text"
      },
      "source": [
        "machine learning (scikit learn)"
      ]
    },
    {
      "cell_type": "code",
      "metadata": {
        "id": "IJS9cqRfjjRn",
        "colab_type": "code",
        "outputId": "536b2458-9714-4265-fec5-93242b59a1ba",
        "colab": {
          "base_uri": "https://localhost:8080/",
          "height": 187
        }
      },
      "source": [
        "import numpy as np\n",
        "from sklearn.preprocessing import MinMaxScaler\n",
        "\n",
        "demoData = np.random.randint(10, 100, (10 ,2))\n",
        "demoData"
      ],
      "execution_count": 0,
      "outputs": [
        {
          "output_type": "execute_result",
          "data": {
            "text/plain": [
              "array([[15, 34],\n",
              "       [75, 78],\n",
              "       [95, 88],\n",
              "       [41, 75],\n",
              "       [38, 43],\n",
              "       [90, 28],\n",
              "       [20, 46],\n",
              "       [92, 34],\n",
              "       [91, 50],\n",
              "       [70, 77]])"
            ]
          },
          "metadata": {
            "tags": []
          },
          "execution_count": 1
        }
      ]
    },
    {
      "cell_type": "code",
      "metadata": {
        "id": "L5eC70O2jgvY",
        "colab_type": "code",
        "outputId": "037002d3-5674-46ce-b892-da0dca009a67",
        "colab": {
          "base_uri": "https://localhost:8080/",
          "height": 187
        }
      },
      "source": [
        "demoData = np.random.randint(10, 100, (10 ,2))\n",
        "demoData"
      ],
      "execution_count": 0,
      "outputs": [
        {
          "output_type": "execute_result",
          "data": {
            "text/plain": [
              "array([[20, 52],\n",
              "       [68, 19],\n",
              "       [97, 96],\n",
              "       [79, 66],\n",
              "       [66, 83],\n",
              "       [64, 38],\n",
              "       [56, 68],\n",
              "       [46, 26],\n",
              "       [28, 40],\n",
              "       [54, 36]])"
            ]
          },
          "metadata": {
            "tags": []
          },
          "execution_count": 2
        }
      ]
    },
    {
      "cell_type": "code",
      "metadata": {
        "id": "smYBJERLi4PX",
        "colab_type": "code",
        "outputId": "756a1bf4-c402-460e-abd0-7678639ca800",
        "colab": {
          "base_uri": "https://localhost:8080/",
          "height": 187
        }
      },
      "source": [
        "scalar_model = MinMaxScaler()\n",
        "scalar_model.fit_transform(demoData)\n"
      ],
      "execution_count": 0,
      "outputs": [
        {
          "output_type": "execute_result",
          "data": {
            "text/plain": [
              "array([[0.        , 0.42857143],\n",
              "       [0.62337662, 0.        ],\n",
              "       [1.        , 1.        ],\n",
              "       [0.76623377, 0.61038961],\n",
              "       [0.5974026 , 0.83116883],\n",
              "       [0.57142857, 0.24675325],\n",
              "       [0.46753247, 0.63636364],\n",
              "       [0.33766234, 0.09090909],\n",
              "       [0.1038961 , 0.27272727],\n",
              "       [0.44155844, 0.22077922]])"
            ]
          },
          "metadata": {
            "tags": []
          },
          "execution_count": 3
        }
      ]
    },
    {
      "cell_type": "code",
      "metadata": {
        "id": "nElwh7r7kS6l",
        "colab_type": "code",
        "colab": {
          "base_uri": "https://localhost:8080/",
          "height": 357
        },
        "outputId": "dfe72fd8-8c0e-4c99-b372-2a714e4ce1f8"
      },
      "source": [
        "import numpy as np\n",
        "from sklearn.preprocessing import MinMaxScaler\n",
        "\n",
        "demoData = np.random.randint(1, 500, (20 ,4))\n",
        "demoData"
      ],
      "execution_count": 4,
      "outputs": [
        {
          "output_type": "execute_result",
          "data": {
            "text/plain": [
              "array([[116, 152, 101, 243],\n",
              "       [373,  39, 295,   9],\n",
              "       [ 25, 191, 287, 373],\n",
              "       [381, 470, 413, 346],\n",
              "       [415, 223,  97, 221],\n",
              "       [320,   3,  11, 258],\n",
              "       [383, 258, 204, 326],\n",
              "       [243, 107, 117, 266],\n",
              "       [494, 254,  79, 194],\n",
              "       [338, 186, 409,  40],\n",
              "       [125, 471, 158, 218],\n",
              "       [260, 166, 236, 310],\n",
              "       [ 17, 270, 201, 151],\n",
              "       [341, 176,  53, 165],\n",
              "       [ 50, 482, 491, 488],\n",
              "       [101,  62, 418, 269],\n",
              "       [106,  77, 141, 213],\n",
              "       [263, 466, 419, 256],\n",
              "       [343,  74, 247,  75],\n",
              "       [140, 447, 257,  36]])"
            ]
          },
          "metadata": {
            "tags": []
          },
          "execution_count": 4
        }
      ]
    },
    {
      "cell_type": "code",
      "metadata": {
        "id": "uU4F19XIk06W",
        "colab_type": "code",
        "colab": {
          "base_uri": "https://localhost:8080/",
          "height": 357
        },
        "outputId": "27b9e025-13ae-4534-a57c-9a3bbb31614c"
      },
      "source": [
        "scalar_model = MinMaxScaler()\n",
        "feature_data = scalar_model.fit_transform(demoData)\n",
        "feature_data"
      ],
      "execution_count": 5,
      "outputs": [
        {
          "output_type": "execute_result",
          "data": {
            "text/plain": [
              "array([[0.20754717, 0.31106472, 0.1875    , 0.48851775],\n",
              "       [0.74633124, 0.07515658, 0.59166667, 0.        ],\n",
              "       [0.01677149, 0.39248434, 0.575     , 0.75991649],\n",
              "       [0.76310273, 0.97494781, 0.8375    , 0.70354906],\n",
              "       [0.83438155, 0.45929019, 0.17916667, 0.44258873],\n",
              "       [0.63522013, 0.        , 0.        , 0.51983299],\n",
              "       [0.7672956 , 0.53235908, 0.40208333, 0.66179541],\n",
              "       [0.47379455, 0.217119  , 0.22083333, 0.53653445],\n",
              "       [1.        , 0.52400835, 0.14166667, 0.38622129],\n",
              "       [0.67295597, 0.38204593, 0.82916667, 0.06471816],\n",
              "       [0.22641509, 0.97703549, 0.30625   , 0.43632568],\n",
              "       [0.50943396, 0.34029228, 0.46875   , 0.62839248],\n",
              "       [0.        , 0.55741127, 0.39583333, 0.29645094],\n",
              "       [0.67924528, 0.3611691 , 0.0875    , 0.3256785 ],\n",
              "       [0.06918239, 1.        , 1.        , 1.        ],\n",
              "       [0.17610063, 0.12317328, 0.84791667, 0.54279749],\n",
              "       [0.18658281, 0.15448852, 0.27083333, 0.42588727],\n",
              "       [0.51572327, 0.96659708, 0.85      , 0.51565762],\n",
              "       [0.68343816, 0.14822547, 0.49166667, 0.13778706],\n",
              "       [0.25786164, 0.92693111, 0.5125    , 0.05636743]])"
            ]
          },
          "metadata": {
            "tags": []
          },
          "execution_count": 5
        }
      ]
    }
  ]
}