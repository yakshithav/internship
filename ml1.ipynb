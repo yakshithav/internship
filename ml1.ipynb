{
  "nbformat": 4,
  "nbformat_minor": 0,
  "metadata": {
    "colab": {
      "name": "ml1.ipynb",
      "version": "0.3.2",
      "provenance": [],
      "collapsed_sections": [],
      "include_colab_link": true
    },
    "kernelspec": {
      "name": "python3",
      "display_name": "Python 3"
    }
  },
  "cells": [
    {
      "cell_type": "markdown",
      "metadata": {
        "id": "view-in-github",
        "colab_type": "text"
      },
      "source": [
        "<a href=\"https://colab.research.google.com/github/yakshithav/internship/blob/master/ml1.ipynb\" target=\"_parent\"><img src=\"https://colab.research.google.com/assets/colab-badge.svg\" alt=\"Open In Colab\"/></a>"
      ]
    },
    {
      "cell_type": "markdown",
      "metadata": {
        "id": "2m-5NYTHjkbE",
        "colab_type": "text"
      },
      "source": [
        "machine learning (scikit learn)"
      ]
    },
    {
      "cell_type": "code",
      "metadata": {
        "id": "IJS9cqRfjjRn",
        "colab_type": "code",
        "outputId": "536b2458-9714-4265-fec5-93242b59a1ba",
        "colab": {
          "base_uri": "https://localhost:8080/",
          "height": 187
        }
      },
      "source": [
        "import numpy as np\n",
        "from sklearn.preprocessing import MinMaxScaler\n",
        "\n",
        "demoData = np.random.randint(10, 100, (10 ,2))\n",
        "demoData"
      ],
      "execution_count": 0,
      "outputs": [
        {
          "output_type": "execute_result",
          "data": {
            "text/plain": [
              "array([[15, 34],\n",
              "       [75, 78],\n",
              "       [95, 88],\n",
              "       [41, 75],\n",
              "       [38, 43],\n",
              "       [90, 28],\n",
              "       [20, 46],\n",
              "       [92, 34],\n",
              "       [91, 50],\n",
              "       [70, 77]])"
            ]
          },
          "metadata": {
            "tags": []
          },
          "execution_count": 1
        }
      ]
    },
    {
      "cell_type": "code",
      "metadata": {
        "id": "L5eC70O2jgvY",
        "colab_type": "code",
        "outputId": "037002d3-5674-46ce-b892-da0dca009a67",
        "colab": {
          "base_uri": "https://localhost:8080/",
          "height": 187
        }
      },
      "source": [
        "demoData = np.random.randint(10, 100, (10 ,2))\n",
        "demoData"
      ],
      "execution_count": 0,
      "outputs": [
        {
          "output_type": "execute_result",
          "data": {
            "text/plain": [
              "array([[20, 52],\n",
              "       [68, 19],\n",
              "       [97, 96],\n",
              "       [79, 66],\n",
              "       [66, 83],\n",
              "       [64, 38],\n",
              "       [56, 68],\n",
              "       [46, 26],\n",
              "       [28, 40],\n",
              "       [54, 36]])"
            ]
          },
          "metadata": {
            "tags": []
          },
          "execution_count": 2
        }
      ]
    },
    {
      "cell_type": "code",
      "metadata": {
        "id": "smYBJERLi4PX",
        "colab_type": "code",
        "outputId": "756a1bf4-c402-460e-abd0-7678639ca800",
        "colab": {
          "base_uri": "https://localhost:8080/",
          "height": 187
        }
      },
      "source": [
        "scalar_model = MinMaxScaler()\n",
        "scalar_model.fit_transform(demoData)\n"
      ],
      "execution_count": 0,
      "outputs": [
        {
          "output_type": "execute_result",
          "data": {
            "text/plain": [
              "array([[0.        , 0.42857143],\n",
              "       [0.62337662, 0.        ],\n",
              "       [1.        , 1.        ],\n",
              "       [0.76623377, 0.61038961],\n",
              "       [0.5974026 , 0.83116883],\n",
              "       [0.57142857, 0.24675325],\n",
              "       [0.46753247, 0.63636364],\n",
              "       [0.33766234, 0.09090909],\n",
              "       [0.1038961 , 0.27272727],\n",
              "       [0.44155844, 0.22077922]])"
            ]
          },
          "metadata": {
            "tags": []
          },
          "execution_count": 3
        }
      ]
    },
    {
      "cell_type": "code",
      "metadata": {
        "id": "nElwh7r7kS6l",
        "colab_type": "code",
        "outputId": "dfe72fd8-8c0e-4c99-b372-2a714e4ce1f8",
        "colab": {
          "base_uri": "https://localhost:8080/",
          "height": 357
        }
      },
      "source": [
        "import numpy as np\n",
        "from sklearn.preprocessing import MinMaxScaler\n",
        "\n",
        "demoData = np.random.randint(1, 500, (20 ,4))\n",
        "demoData"
      ],
      "execution_count": 0,
      "outputs": [
        {
          "output_type": "execute_result",
          "data": {
            "text/plain": [
              "array([[116, 152, 101, 243],\n",
              "       [373,  39, 295,   9],\n",
              "       [ 25, 191, 287, 373],\n",
              "       [381, 470, 413, 346],\n",
              "       [415, 223,  97, 221],\n",
              "       [320,   3,  11, 258],\n",
              "       [383, 258, 204, 326],\n",
              "       [243, 107, 117, 266],\n",
              "       [494, 254,  79, 194],\n",
              "       [338, 186, 409,  40],\n",
              "       [125, 471, 158, 218],\n",
              "       [260, 166, 236, 310],\n",
              "       [ 17, 270, 201, 151],\n",
              "       [341, 176,  53, 165],\n",
              "       [ 50, 482, 491, 488],\n",
              "       [101,  62, 418, 269],\n",
              "       [106,  77, 141, 213],\n",
              "       [263, 466, 419, 256],\n",
              "       [343,  74, 247,  75],\n",
              "       [140, 447, 257,  36]])"
            ]
          },
          "metadata": {
            "tags": []
          },
          "execution_count": 4
        }
      ]
    },
    {
      "cell_type": "code",
      "metadata": {
        "id": "uU4F19XIk06W",
        "colab_type": "code",
        "outputId": "27b9e025-13ae-4534-a57c-9a3bbb31614c",
        "colab": {
          "base_uri": "https://localhost:8080/",
          "height": 357
        }
      },
      "source": [
        "scalar_model = MinMaxScaler()\n",
        "feature_data = scalar_model.fit_transform(demoData)\n",
        "feature_data"
      ],
      "execution_count": 0,
      "outputs": [
        {
          "output_type": "execute_result",
          "data": {
            "text/plain": [
              "array([[0.20754717, 0.31106472, 0.1875    , 0.48851775],\n",
              "       [0.74633124, 0.07515658, 0.59166667, 0.        ],\n",
              "       [0.01677149, 0.39248434, 0.575     , 0.75991649],\n",
              "       [0.76310273, 0.97494781, 0.8375    , 0.70354906],\n",
              "       [0.83438155, 0.45929019, 0.17916667, 0.44258873],\n",
              "       [0.63522013, 0.        , 0.        , 0.51983299],\n",
              "       [0.7672956 , 0.53235908, 0.40208333, 0.66179541],\n",
              "       [0.47379455, 0.217119  , 0.22083333, 0.53653445],\n",
              "       [1.        , 0.52400835, 0.14166667, 0.38622129],\n",
              "       [0.67295597, 0.38204593, 0.82916667, 0.06471816],\n",
              "       [0.22641509, 0.97703549, 0.30625   , 0.43632568],\n",
              "       [0.50943396, 0.34029228, 0.46875   , 0.62839248],\n",
              "       [0.        , 0.55741127, 0.39583333, 0.29645094],\n",
              "       [0.67924528, 0.3611691 , 0.0875    , 0.3256785 ],\n",
              "       [0.06918239, 1.        , 1.        , 1.        ],\n",
              "       [0.17610063, 0.12317328, 0.84791667, 0.54279749],\n",
              "       [0.18658281, 0.15448852, 0.27083333, 0.42588727],\n",
              "       [0.51572327, 0.96659708, 0.85      , 0.51565762],\n",
              "       [0.68343816, 0.14822547, 0.49166667, 0.13778706],\n",
              "       [0.25786164, 0.92693111, 0.5125    , 0.05636743]])"
            ]
          },
          "metadata": {
            "tags": []
          },
          "execution_count": 5
        }
      ]
    },
    {
      "cell_type": "code",
      "metadata": {
        "id": "ReMvzab5lYV2",
        "colab_type": "code",
        "outputId": "f75a13fd-f69b-4234-e597-45a9ea8a2d1f",
        "colab": {
          "base_uri": "https://localhost:8080/",
          "height": 669
        }
      },
      "source": [
        "import pandas as pd\n",
        "df = pd.DataFrame(data=feature_data, columns=['k1', 'k2', 'k3', 'labels'])\n",
        "df"
      ],
      "execution_count": 0,
      "outputs": [
        {
          "output_type": "execute_result",
          "data": {
            "text/html": [
              "<div>\n",
              "<style scoped>\n",
              "    .dataframe tbody tr th:only-of-type {\n",
              "        vertical-align: middle;\n",
              "    }\n",
              "\n",
              "    .dataframe tbody tr th {\n",
              "        vertical-align: top;\n",
              "    }\n",
              "\n",
              "    .dataframe thead th {\n",
              "        text-align: right;\n",
              "    }\n",
              "</style>\n",
              "<table border=\"1\" class=\"dataframe\">\n",
              "  <thead>\n",
              "    <tr style=\"text-align: right;\">\n",
              "      <th></th>\n",
              "      <th>k1</th>\n",
              "      <th>k2</th>\n",
              "      <th>k3</th>\n",
              "      <th>labels</th>\n",
              "    </tr>\n",
              "  </thead>\n",
              "  <tbody>\n",
              "    <tr>\n",
              "      <th>0</th>\n",
              "      <td>0.207547</td>\n",
              "      <td>0.311065</td>\n",
              "      <td>0.187500</td>\n",
              "      <td>0.488518</td>\n",
              "    </tr>\n",
              "    <tr>\n",
              "      <th>1</th>\n",
              "      <td>0.746331</td>\n",
              "      <td>0.075157</td>\n",
              "      <td>0.591667</td>\n",
              "      <td>0.000000</td>\n",
              "    </tr>\n",
              "    <tr>\n",
              "      <th>2</th>\n",
              "      <td>0.016771</td>\n",
              "      <td>0.392484</td>\n",
              "      <td>0.575000</td>\n",
              "      <td>0.759916</td>\n",
              "    </tr>\n",
              "    <tr>\n",
              "      <th>3</th>\n",
              "      <td>0.763103</td>\n",
              "      <td>0.974948</td>\n",
              "      <td>0.837500</td>\n",
              "      <td>0.703549</td>\n",
              "    </tr>\n",
              "    <tr>\n",
              "      <th>4</th>\n",
              "      <td>0.834382</td>\n",
              "      <td>0.459290</td>\n",
              "      <td>0.179167</td>\n",
              "      <td>0.442589</td>\n",
              "    </tr>\n",
              "    <tr>\n",
              "      <th>5</th>\n",
              "      <td>0.635220</td>\n",
              "      <td>0.000000</td>\n",
              "      <td>0.000000</td>\n",
              "      <td>0.519833</td>\n",
              "    </tr>\n",
              "    <tr>\n",
              "      <th>6</th>\n",
              "      <td>0.767296</td>\n",
              "      <td>0.532359</td>\n",
              "      <td>0.402083</td>\n",
              "      <td>0.661795</td>\n",
              "    </tr>\n",
              "    <tr>\n",
              "      <th>7</th>\n",
              "      <td>0.473795</td>\n",
              "      <td>0.217119</td>\n",
              "      <td>0.220833</td>\n",
              "      <td>0.536534</td>\n",
              "    </tr>\n",
              "    <tr>\n",
              "      <th>8</th>\n",
              "      <td>1.000000</td>\n",
              "      <td>0.524008</td>\n",
              "      <td>0.141667</td>\n",
              "      <td>0.386221</td>\n",
              "    </tr>\n",
              "    <tr>\n",
              "      <th>9</th>\n",
              "      <td>0.672956</td>\n",
              "      <td>0.382046</td>\n",
              "      <td>0.829167</td>\n",
              "      <td>0.064718</td>\n",
              "    </tr>\n",
              "    <tr>\n",
              "      <th>10</th>\n",
              "      <td>0.226415</td>\n",
              "      <td>0.977035</td>\n",
              "      <td>0.306250</td>\n",
              "      <td>0.436326</td>\n",
              "    </tr>\n",
              "    <tr>\n",
              "      <th>11</th>\n",
              "      <td>0.509434</td>\n",
              "      <td>0.340292</td>\n",
              "      <td>0.468750</td>\n",
              "      <td>0.628392</td>\n",
              "    </tr>\n",
              "    <tr>\n",
              "      <th>12</th>\n",
              "      <td>0.000000</td>\n",
              "      <td>0.557411</td>\n",
              "      <td>0.395833</td>\n",
              "      <td>0.296451</td>\n",
              "    </tr>\n",
              "    <tr>\n",
              "      <th>13</th>\n",
              "      <td>0.679245</td>\n",
              "      <td>0.361169</td>\n",
              "      <td>0.087500</td>\n",
              "      <td>0.325678</td>\n",
              "    </tr>\n",
              "    <tr>\n",
              "      <th>14</th>\n",
              "      <td>0.069182</td>\n",
              "      <td>1.000000</td>\n",
              "      <td>1.000000</td>\n",
              "      <td>1.000000</td>\n",
              "    </tr>\n",
              "    <tr>\n",
              "      <th>15</th>\n",
              "      <td>0.176101</td>\n",
              "      <td>0.123173</td>\n",
              "      <td>0.847917</td>\n",
              "      <td>0.542797</td>\n",
              "    </tr>\n",
              "    <tr>\n",
              "      <th>16</th>\n",
              "      <td>0.186583</td>\n",
              "      <td>0.154489</td>\n",
              "      <td>0.270833</td>\n",
              "      <td>0.425887</td>\n",
              "    </tr>\n",
              "    <tr>\n",
              "      <th>17</th>\n",
              "      <td>0.515723</td>\n",
              "      <td>0.966597</td>\n",
              "      <td>0.850000</td>\n",
              "      <td>0.515658</td>\n",
              "    </tr>\n",
              "    <tr>\n",
              "      <th>18</th>\n",
              "      <td>0.683438</td>\n",
              "      <td>0.148225</td>\n",
              "      <td>0.491667</td>\n",
              "      <td>0.137787</td>\n",
              "    </tr>\n",
              "    <tr>\n",
              "      <th>19</th>\n",
              "      <td>0.257862</td>\n",
              "      <td>0.926931</td>\n",
              "      <td>0.512500</td>\n",
              "      <td>0.056367</td>\n",
              "    </tr>\n",
              "  </tbody>\n",
              "</table>\n",
              "</div>"
            ],
            "text/plain": [
              "          k1        k2        k3    labels\n",
              "0   0.207547  0.311065  0.187500  0.488518\n",
              "1   0.746331  0.075157  0.591667  0.000000\n",
              "2   0.016771  0.392484  0.575000  0.759916\n",
              "3   0.763103  0.974948  0.837500  0.703549\n",
              "4   0.834382  0.459290  0.179167  0.442589\n",
              "5   0.635220  0.000000  0.000000  0.519833\n",
              "6   0.767296  0.532359  0.402083  0.661795\n",
              "7   0.473795  0.217119  0.220833  0.536534\n",
              "8   1.000000  0.524008  0.141667  0.386221\n",
              "9   0.672956  0.382046  0.829167  0.064718\n",
              "10  0.226415  0.977035  0.306250  0.436326\n",
              "11  0.509434  0.340292  0.468750  0.628392\n",
              "12  0.000000  0.557411  0.395833  0.296451\n",
              "13  0.679245  0.361169  0.087500  0.325678\n",
              "14  0.069182  1.000000  1.000000  1.000000\n",
              "15  0.176101  0.123173  0.847917  0.542797\n",
              "16  0.186583  0.154489  0.270833  0.425887\n",
              "17  0.515723  0.966597  0.850000  0.515658\n",
              "18  0.683438  0.148225  0.491667  0.137787\n",
              "19  0.257862  0.926931  0.512500  0.056367"
            ]
          },
          "metadata": {
            "tags": []
          },
          "execution_count": 6
        }
      ]
    },
    {
      "cell_type": "code",
      "metadata": {
        "id": "1xCeK_SUlfZG",
        "colab_type": "code",
        "outputId": "d71877b2-6aff-48b4-fcde-28d1169a1c68",
        "colab": {
          "base_uri": "https://localhost:8080/",
          "height": 669
        }
      },
      "source": [
        "X = df[['k1', 'k2', 'k3']]\n",
        "y = df['labels']\n",
        "X"
      ],
      "execution_count": 0,
      "outputs": [
        {
          "output_type": "execute_result",
          "data": {
            "text/html": [
              "<div>\n",
              "<style scoped>\n",
              "    .dataframe tbody tr th:only-of-type {\n",
              "        vertical-align: middle;\n",
              "    }\n",
              "\n",
              "    .dataframe tbody tr th {\n",
              "        vertical-align: top;\n",
              "    }\n",
              "\n",
              "    .dataframe thead th {\n",
              "        text-align: right;\n",
              "    }\n",
              "</style>\n",
              "<table border=\"1\" class=\"dataframe\">\n",
              "  <thead>\n",
              "    <tr style=\"text-align: right;\">\n",
              "      <th></th>\n",
              "      <th>k1</th>\n",
              "      <th>k2</th>\n",
              "      <th>k3</th>\n",
              "    </tr>\n",
              "  </thead>\n",
              "  <tbody>\n",
              "    <tr>\n",
              "      <th>0</th>\n",
              "      <td>0.207547</td>\n",
              "      <td>0.311065</td>\n",
              "      <td>0.187500</td>\n",
              "    </tr>\n",
              "    <tr>\n",
              "      <th>1</th>\n",
              "      <td>0.746331</td>\n",
              "      <td>0.075157</td>\n",
              "      <td>0.591667</td>\n",
              "    </tr>\n",
              "    <tr>\n",
              "      <th>2</th>\n",
              "      <td>0.016771</td>\n",
              "      <td>0.392484</td>\n",
              "      <td>0.575000</td>\n",
              "    </tr>\n",
              "    <tr>\n",
              "      <th>3</th>\n",
              "      <td>0.763103</td>\n",
              "      <td>0.974948</td>\n",
              "      <td>0.837500</td>\n",
              "    </tr>\n",
              "    <tr>\n",
              "      <th>4</th>\n",
              "      <td>0.834382</td>\n",
              "      <td>0.459290</td>\n",
              "      <td>0.179167</td>\n",
              "    </tr>\n",
              "    <tr>\n",
              "      <th>5</th>\n",
              "      <td>0.635220</td>\n",
              "      <td>0.000000</td>\n",
              "      <td>0.000000</td>\n",
              "    </tr>\n",
              "    <tr>\n",
              "      <th>6</th>\n",
              "      <td>0.767296</td>\n",
              "      <td>0.532359</td>\n",
              "      <td>0.402083</td>\n",
              "    </tr>\n",
              "    <tr>\n",
              "      <th>7</th>\n",
              "      <td>0.473795</td>\n",
              "      <td>0.217119</td>\n",
              "      <td>0.220833</td>\n",
              "    </tr>\n",
              "    <tr>\n",
              "      <th>8</th>\n",
              "      <td>1.000000</td>\n",
              "      <td>0.524008</td>\n",
              "      <td>0.141667</td>\n",
              "    </tr>\n",
              "    <tr>\n",
              "      <th>9</th>\n",
              "      <td>0.672956</td>\n",
              "      <td>0.382046</td>\n",
              "      <td>0.829167</td>\n",
              "    </tr>\n",
              "    <tr>\n",
              "      <th>10</th>\n",
              "      <td>0.226415</td>\n",
              "      <td>0.977035</td>\n",
              "      <td>0.306250</td>\n",
              "    </tr>\n",
              "    <tr>\n",
              "      <th>11</th>\n",
              "      <td>0.509434</td>\n",
              "      <td>0.340292</td>\n",
              "      <td>0.468750</td>\n",
              "    </tr>\n",
              "    <tr>\n",
              "      <th>12</th>\n",
              "      <td>0.000000</td>\n",
              "      <td>0.557411</td>\n",
              "      <td>0.395833</td>\n",
              "    </tr>\n",
              "    <tr>\n",
              "      <th>13</th>\n",
              "      <td>0.679245</td>\n",
              "      <td>0.361169</td>\n",
              "      <td>0.087500</td>\n",
              "    </tr>\n",
              "    <tr>\n",
              "      <th>14</th>\n",
              "      <td>0.069182</td>\n",
              "      <td>1.000000</td>\n",
              "      <td>1.000000</td>\n",
              "    </tr>\n",
              "    <tr>\n",
              "      <th>15</th>\n",
              "      <td>0.176101</td>\n",
              "      <td>0.123173</td>\n",
              "      <td>0.847917</td>\n",
              "    </tr>\n",
              "    <tr>\n",
              "      <th>16</th>\n",
              "      <td>0.186583</td>\n",
              "      <td>0.154489</td>\n",
              "      <td>0.270833</td>\n",
              "    </tr>\n",
              "    <tr>\n",
              "      <th>17</th>\n",
              "      <td>0.515723</td>\n",
              "      <td>0.966597</td>\n",
              "      <td>0.850000</td>\n",
              "    </tr>\n",
              "    <tr>\n",
              "      <th>18</th>\n",
              "      <td>0.683438</td>\n",
              "      <td>0.148225</td>\n",
              "      <td>0.491667</td>\n",
              "    </tr>\n",
              "    <tr>\n",
              "      <th>19</th>\n",
              "      <td>0.257862</td>\n",
              "      <td>0.926931</td>\n",
              "      <td>0.512500</td>\n",
              "    </tr>\n",
              "  </tbody>\n",
              "</table>\n",
              "</div>"
            ],
            "text/plain": [
              "          k1        k2        k3\n",
              "0   0.207547  0.311065  0.187500\n",
              "1   0.746331  0.075157  0.591667\n",
              "2   0.016771  0.392484  0.575000\n",
              "3   0.763103  0.974948  0.837500\n",
              "4   0.834382  0.459290  0.179167\n",
              "5   0.635220  0.000000  0.000000\n",
              "6   0.767296  0.532359  0.402083\n",
              "7   0.473795  0.217119  0.220833\n",
              "8   1.000000  0.524008  0.141667\n",
              "9   0.672956  0.382046  0.829167\n",
              "10  0.226415  0.977035  0.306250\n",
              "11  0.509434  0.340292  0.468750\n",
              "12  0.000000  0.557411  0.395833\n",
              "13  0.679245  0.361169  0.087500\n",
              "14  0.069182  1.000000  1.000000\n",
              "15  0.176101  0.123173  0.847917\n",
              "16  0.186583  0.154489  0.270833\n",
              "17  0.515723  0.966597  0.850000\n",
              "18  0.683438  0.148225  0.491667\n",
              "19  0.257862  0.926931  0.512500"
            ]
          },
          "metadata": {
            "tags": []
          },
          "execution_count": 10
        }
      ]
    },
    {
      "cell_type": "code",
      "metadata": {
        "id": "onyay_QnlwQf",
        "colab_type": "code",
        "outputId": "14bbb680-85c9-41e0-f462-dfc33eeb9f88",
        "colab": {
          "base_uri": "https://localhost:8080/",
          "height": 374
        }
      },
      "source": [
        "X = df[['k1', 'k2', 'k3']]\n",
        "y = df['labels']\n",
        "y"
      ],
      "execution_count": 0,
      "outputs": [
        {
          "output_type": "execute_result",
          "data": {
            "text/plain": [
              "0     0.488518\n",
              "1     0.000000\n",
              "2     0.759916\n",
              "3     0.703549\n",
              "4     0.442589\n",
              "5     0.519833\n",
              "6     0.661795\n",
              "7     0.536534\n",
              "8     0.386221\n",
              "9     0.064718\n",
              "10    0.436326\n",
              "11    0.628392\n",
              "12    0.296451\n",
              "13    0.325678\n",
              "14    1.000000\n",
              "15    0.542797\n",
              "16    0.425887\n",
              "17    0.515658\n",
              "18    0.137787\n",
              "19    0.056367\n",
              "Name: labels, dtype: float64"
            ]
          },
          "metadata": {
            "tags": []
          },
          "execution_count": 12
        }
      ]
    },
    {
      "cell_type": "code",
      "metadata": {
        "id": "3jyhq5JTl3ET",
        "colab_type": "code",
        "outputId": "7fcb6191-e66b-486e-f91e-965cfcd3b3fd",
        "colab": {
          "base_uri": "https://localhost:8080/",
          "height": 34
        }
      },
      "source": [
        "from sklearn.model_selection import train_test_split\n",
        "X_train, X_test, y_train, y_test = train_test_split(X, y, test_size=0.30, random_state=42)\n",
        "X_train.shape"
      ],
      "execution_count": 0,
      "outputs": [
        {
          "output_type": "execute_result",
          "data": {
            "text/plain": [
              "(14, 3)"
            ]
          },
          "metadata": {
            "tags": []
          },
          "execution_count": 13
        }
      ]
    },
    {
      "cell_type": "markdown",
      "metadata": {
        "id": "PjanirQivKJT",
        "colab_type": "text"
      },
      "source": [
        "load the iris data set and check the features"
      ]
    },
    {
      "cell_type": "code",
      "metadata": {
        "id": "-vpI6Ar4mIuQ",
        "colab_type": "code",
        "colab": {
          "base_uri": "https://localhost:8080/",
          "height": 35
        },
        "outputId": "50df169e-e70b-48e9-f624-d028f7ac524d"
      },
      "source": [
        "from sklearn.datasets import load_iris\n",
        "iris=load_iris()\n",
        "type(iris)\n"
      ],
      "execution_count": 56,
      "outputs": [
        {
          "output_type": "execute_result",
          "data": {
            "text/plain": [
              "sklearn.utils.Bunch"
            ]
          },
          "metadata": {
            "tags": []
          },
          "execution_count": 56
        }
      ]
    },
    {
      "cell_type": "code",
      "metadata": {
        "id": "XszSX2svFfne",
        "colab_type": "code",
        "colab": {
          "base_uri": "https://localhost:8080/",
          "height": 1000
        },
        "outputId": "18cd2793-e591-4f42-ba59-6dd0b31fc33a"
      },
      "source": [
        "iris.data"
      ],
      "execution_count": 57,
      "outputs": [
        {
          "output_type": "execute_result",
          "data": {
            "text/plain": [
              "array([[5.1, 3.5, 1.4, 0.2],\n",
              "       [4.9, 3. , 1.4, 0.2],\n",
              "       [4.7, 3.2, 1.3, 0.2],\n",
              "       [4.6, 3.1, 1.5, 0.2],\n",
              "       [5. , 3.6, 1.4, 0.2],\n",
              "       [5.4, 3.9, 1.7, 0.4],\n",
              "       [4.6, 3.4, 1.4, 0.3],\n",
              "       [5. , 3.4, 1.5, 0.2],\n",
              "       [4.4, 2.9, 1.4, 0.2],\n",
              "       [4.9, 3.1, 1.5, 0.1],\n",
              "       [5.4, 3.7, 1.5, 0.2],\n",
              "       [4.8, 3.4, 1.6, 0.2],\n",
              "       [4.8, 3. , 1.4, 0.1],\n",
              "       [4.3, 3. , 1.1, 0.1],\n",
              "       [5.8, 4. , 1.2, 0.2],\n",
              "       [5.7, 4.4, 1.5, 0.4],\n",
              "       [5.4, 3.9, 1.3, 0.4],\n",
              "       [5.1, 3.5, 1.4, 0.3],\n",
              "       [5.7, 3.8, 1.7, 0.3],\n",
              "       [5.1, 3.8, 1.5, 0.3],\n",
              "       [5.4, 3.4, 1.7, 0.2],\n",
              "       [5.1, 3.7, 1.5, 0.4],\n",
              "       [4.6, 3.6, 1. , 0.2],\n",
              "       [5.1, 3.3, 1.7, 0.5],\n",
              "       [4.8, 3.4, 1.9, 0.2],\n",
              "       [5. , 3. , 1.6, 0.2],\n",
              "       [5. , 3.4, 1.6, 0.4],\n",
              "       [5.2, 3.5, 1.5, 0.2],\n",
              "       [5.2, 3.4, 1.4, 0.2],\n",
              "       [4.7, 3.2, 1.6, 0.2],\n",
              "       [4.8, 3.1, 1.6, 0.2],\n",
              "       [5.4, 3.4, 1.5, 0.4],\n",
              "       [5.2, 4.1, 1.5, 0.1],\n",
              "       [5.5, 4.2, 1.4, 0.2],\n",
              "       [4.9, 3.1, 1.5, 0.2],\n",
              "       [5. , 3.2, 1.2, 0.2],\n",
              "       [5.5, 3.5, 1.3, 0.2],\n",
              "       [4.9, 3.6, 1.4, 0.1],\n",
              "       [4.4, 3. , 1.3, 0.2],\n",
              "       [5.1, 3.4, 1.5, 0.2],\n",
              "       [5. , 3.5, 1.3, 0.3],\n",
              "       [4.5, 2.3, 1.3, 0.3],\n",
              "       [4.4, 3.2, 1.3, 0.2],\n",
              "       [5. , 3.5, 1.6, 0.6],\n",
              "       [5.1, 3.8, 1.9, 0.4],\n",
              "       [4.8, 3. , 1.4, 0.3],\n",
              "       [5.1, 3.8, 1.6, 0.2],\n",
              "       [4.6, 3.2, 1.4, 0.2],\n",
              "       [5.3, 3.7, 1.5, 0.2],\n",
              "       [5. , 3.3, 1.4, 0.2],\n",
              "       [7. , 3.2, 4.7, 1.4],\n",
              "       [6.4, 3.2, 4.5, 1.5],\n",
              "       [6.9, 3.1, 4.9, 1.5],\n",
              "       [5.5, 2.3, 4. , 1.3],\n",
              "       [6.5, 2.8, 4.6, 1.5],\n",
              "       [5.7, 2.8, 4.5, 1.3],\n",
              "       [6.3, 3.3, 4.7, 1.6],\n",
              "       [4.9, 2.4, 3.3, 1. ],\n",
              "       [6.6, 2.9, 4.6, 1.3],\n",
              "       [5.2, 2.7, 3.9, 1.4],\n",
              "       [5. , 2. , 3.5, 1. ],\n",
              "       [5.9, 3. , 4.2, 1.5],\n",
              "       [6. , 2.2, 4. , 1. ],\n",
              "       [6.1, 2.9, 4.7, 1.4],\n",
              "       [5.6, 2.9, 3.6, 1.3],\n",
              "       [6.7, 3.1, 4.4, 1.4],\n",
              "       [5.6, 3. , 4.5, 1.5],\n",
              "       [5.8, 2.7, 4.1, 1. ],\n",
              "       [6.2, 2.2, 4.5, 1.5],\n",
              "       [5.6, 2.5, 3.9, 1.1],\n",
              "       [5.9, 3.2, 4.8, 1.8],\n",
              "       [6.1, 2.8, 4. , 1.3],\n",
              "       [6.3, 2.5, 4.9, 1.5],\n",
              "       [6.1, 2.8, 4.7, 1.2],\n",
              "       [6.4, 2.9, 4.3, 1.3],\n",
              "       [6.6, 3. , 4.4, 1.4],\n",
              "       [6.8, 2.8, 4.8, 1.4],\n",
              "       [6.7, 3. , 5. , 1.7],\n",
              "       [6. , 2.9, 4.5, 1.5],\n",
              "       [5.7, 2.6, 3.5, 1. ],\n",
              "       [5.5, 2.4, 3.8, 1.1],\n",
              "       [5.5, 2.4, 3.7, 1. ],\n",
              "       [5.8, 2.7, 3.9, 1.2],\n",
              "       [6. , 2.7, 5.1, 1.6],\n",
              "       [5.4, 3. , 4.5, 1.5],\n",
              "       [6. , 3.4, 4.5, 1.6],\n",
              "       [6.7, 3.1, 4.7, 1.5],\n",
              "       [6.3, 2.3, 4.4, 1.3],\n",
              "       [5.6, 3. , 4.1, 1.3],\n",
              "       [5.5, 2.5, 4. , 1.3],\n",
              "       [5.5, 2.6, 4.4, 1.2],\n",
              "       [6.1, 3. , 4.6, 1.4],\n",
              "       [5.8, 2.6, 4. , 1.2],\n",
              "       [5. , 2.3, 3.3, 1. ],\n",
              "       [5.6, 2.7, 4.2, 1.3],\n",
              "       [5.7, 3. , 4.2, 1.2],\n",
              "       [5.7, 2.9, 4.2, 1.3],\n",
              "       [6.2, 2.9, 4.3, 1.3],\n",
              "       [5.1, 2.5, 3. , 1.1],\n",
              "       [5.7, 2.8, 4.1, 1.3],\n",
              "       [6.3, 3.3, 6. , 2.5],\n",
              "       [5.8, 2.7, 5.1, 1.9],\n",
              "       [7.1, 3. , 5.9, 2.1],\n",
              "       [6.3, 2.9, 5.6, 1.8],\n",
              "       [6.5, 3. , 5.8, 2.2],\n",
              "       [7.6, 3. , 6.6, 2.1],\n",
              "       [4.9, 2.5, 4.5, 1.7],\n",
              "       [7.3, 2.9, 6.3, 1.8],\n",
              "       [6.7, 2.5, 5.8, 1.8],\n",
              "       [7.2, 3.6, 6.1, 2.5],\n",
              "       [6.5, 3.2, 5.1, 2. ],\n",
              "       [6.4, 2.7, 5.3, 1.9],\n",
              "       [6.8, 3. , 5.5, 2.1],\n",
              "       [5.7, 2.5, 5. , 2. ],\n",
              "       [5.8, 2.8, 5.1, 2.4],\n",
              "       [6.4, 3.2, 5.3, 2.3],\n",
              "       [6.5, 3. , 5.5, 1.8],\n",
              "       [7.7, 3.8, 6.7, 2.2],\n",
              "       [7.7, 2.6, 6.9, 2.3],\n",
              "       [6. , 2.2, 5. , 1.5],\n",
              "       [6.9, 3.2, 5.7, 2.3],\n",
              "       [5.6, 2.8, 4.9, 2. ],\n",
              "       [7.7, 2.8, 6.7, 2. ],\n",
              "       [6.3, 2.7, 4.9, 1.8],\n",
              "       [6.7, 3.3, 5.7, 2.1],\n",
              "       [7.2, 3.2, 6. , 1.8],\n",
              "       [6.2, 2.8, 4.8, 1.8],\n",
              "       [6.1, 3. , 4.9, 1.8],\n",
              "       [6.4, 2.8, 5.6, 2.1],\n",
              "       [7.2, 3. , 5.8, 1.6],\n",
              "       [7.4, 2.8, 6.1, 1.9],\n",
              "       [7.9, 3.8, 6.4, 2. ],\n",
              "       [6.4, 2.8, 5.6, 2.2],\n",
              "       [6.3, 2.8, 5.1, 1.5],\n",
              "       [6.1, 2.6, 5.6, 1.4],\n",
              "       [7.7, 3. , 6.1, 2.3],\n",
              "       [6.3, 3.4, 5.6, 2.4],\n",
              "       [6.4, 3.1, 5.5, 1.8],\n",
              "       [6. , 3. , 4.8, 1.8],\n",
              "       [6.9, 3.1, 5.4, 2.1],\n",
              "       [6.7, 3.1, 5.6, 2.4],\n",
              "       [6.9, 3.1, 5.1, 2.3],\n",
              "       [5.8, 2.7, 5.1, 1.9],\n",
              "       [6.8, 3.2, 5.9, 2.3],\n",
              "       [6.7, 3.3, 5.7, 2.5],\n",
              "       [6.7, 3. , 5.2, 2.3],\n",
              "       [6.3, 2.5, 5. , 1.9],\n",
              "       [6.5, 3. , 5.2, 2. ],\n",
              "       [6.2, 3.4, 5.4, 2.3],\n",
              "       [5.9, 3. , 5.1, 1.8]])"
            ]
          },
          "metadata": {
            "tags": []
          },
          "execution_count": 57
        }
      ]
    },
    {
      "cell_type": "code",
      "metadata": {
        "id": "72-C94Foy6X8",
        "colab_type": "code",
        "colab": {
          "base_uri": "https://localhost:8080/",
          "height": 35
        },
        "outputId": "151b8fc9-5473-4a6f-e78b-d86fb3faa8e3"
      },
      "source": [
        "print(iris.feature_names)"
      ],
      "execution_count": 58,
      "outputs": [
        {
          "output_type": "stream",
          "text": [
            "['sepal length (cm)', 'sepal width (cm)', 'petal length (cm)', 'petal width (cm)']\n"
          ],
          "name": "stdout"
        }
      ]
    },
    {
      "cell_type": "code",
      "metadata": {
        "id": "QZ3a-AOyzFv0",
        "colab_type": "code",
        "colab": {
          "base_uri": "https://localhost:8080/",
          "height": 108
        },
        "outputId": "0c4c0ae7-417f-4b4e-daf1-9003891dc982"
      },
      "source": [
        "print(iris.target)"
      ],
      "execution_count": 18,
      "outputs": [
        {
          "output_type": "stream",
          "text": [
            "[0 0 0 0 0 0 0 0 0 0 0 0 0 0 0 0 0 0 0 0 0 0 0 0 0 0 0 0 0 0 0 0 0 0 0 0 0\n",
            " 0 0 0 0 0 0 0 0 0 0 0 0 0 1 1 1 1 1 1 1 1 1 1 1 1 1 1 1 1 1 1 1 1 1 1 1 1\n",
            " 1 1 1 1 1 1 1 1 1 1 1 1 1 1 1 1 1 1 1 1 1 1 1 1 1 1 2 2 2 2 2 2 2 2 2 2 2\n",
            " 2 2 2 2 2 2 2 2 2 2 2 2 2 2 2 2 2 2 2 2 2 2 2 2 2 2 2 2 2 2 2 2 2 2 2 2 2\n",
            " 2 2]\n"
          ],
          "name": "stdout"
        }
      ]
    },
    {
      "cell_type": "code",
      "metadata": {
        "id": "oqSpzNnxzMPW",
        "colab_type": "code",
        "colab": {
          "base_uri": "https://localhost:8080/",
          "height": 35
        },
        "outputId": "a918b495-2a0a-4804-cfa5-ba1e4994f9e8"
      },
      "source": [
        "print(iris.target_names)"
      ],
      "execution_count": 59,
      "outputs": [
        {
          "output_type": "stream",
          "text": [
            "['setosa' 'versicolor' 'virginica']\n"
          ],
          "name": "stdout"
        }
      ]
    },
    {
      "cell_type": "code",
      "metadata": {
        "id": "C4TW47RvzSp4",
        "colab_type": "code",
        "colab": {
          "base_uri": "https://localhost:8080/",
          "height": 54
        },
        "outputId": "eb60126f-b2be-40a3-f251-5f4c4ad9b279"
      },
      "source": [
        "print(type(iris.data))\n",
        "print(type(iris.target))"
      ],
      "execution_count": 60,
      "outputs": [
        {
          "output_type": "stream",
          "text": [
            "<class 'numpy.ndarray'>\n",
            "<class 'numpy.ndarray'>\n"
          ],
          "name": "stdout"
        }
      ]
    },
    {
      "cell_type": "code",
      "metadata": {
        "id": "JnYoO_-Q0DID",
        "colab_type": "code",
        "colab": {
          "base_uri": "https://localhost:8080/",
          "height": 35
        },
        "outputId": "345df116-56ca-41d9-b6d5-31b18081e649"
      },
      "source": [
        "print(iris.data.shape)"
      ],
      "execution_count": 61,
      "outputs": [
        {
          "output_type": "stream",
          "text": [
            "(150, 4)\n"
          ],
          "name": "stdout"
        }
      ]
    },
    {
      "cell_type": "code",
      "metadata": {
        "id": "v88mBgNHF445",
        "colab_type": "code",
        "colab": {}
      },
      "source": [
        "X=iris.data\n",
        "y=iris.target"
      ],
      "execution_count": 0,
      "outputs": []
    },
    {
      "cell_type": "code",
      "metadata": {
        "id": "R9mpg7MfGORu",
        "colab_type": "code",
        "colab": {
          "base_uri": "https://localhost:8080/",
          "height": 54
        },
        "outputId": "f15792f9-cb4b-4b90-b924-63f062b98855"
      },
      "source": [
        "print(X.shape)\n",
        "print(y.shape)"
      ],
      "execution_count": 67,
      "outputs": [
        {
          "output_type": "stream",
          "text": [
            "(150, 4)\n",
            "(150,)\n"
          ],
          "name": "stdout"
        }
      ]
    },
    {
      "cell_type": "code",
      "metadata": {
        "id": "4nf1ppFp0Wcu",
        "colab_type": "code",
        "colab": {}
      },
      "source": [
        "from sklearn.model_selection import train_test_split\n",
        "X_train,X_test,y_train,y_test=train_test_split(X,y,test_size=0.2,random_state=4)"
      ],
      "execution_count": 0,
      "outputs": []
    },
    {
      "cell_type": "code",
      "metadata": {
        "id": "aXXpf7yLEUq8",
        "colab_type": "code",
        "colab": {
          "base_uri": "https://localhost:8080/",
          "height": 54
        },
        "outputId": "78c18013-75e5-42a0-c3c6-100c6725d5df"
      },
      "source": [
        "print(X_train.shape)\n",
        "print(X_test.shape)\n"
      ],
      "execution_count": 69,
      "outputs": [
        {
          "output_type": "stream",
          "text": [
            "(120, 4)\n",
            "(30, 4)\n"
          ],
          "name": "stdout"
        }
      ]
    },
    {
      "cell_type": "code",
      "metadata": {
        "id": "vHDCCP0m3_oV",
        "colab_type": "code",
        "colab": {
          "base_uri": "https://localhost:8080/",
          "height": 54
        },
        "outputId": "fabf0c62-6dc7-4f95-ebf3-45982e87a5a1"
      },
      "source": [
        "print(y_train.shape)\n",
        "print(y_test.shape)"
      ],
      "execution_count": 70,
      "outputs": [
        {
          "output_type": "stream",
          "text": [
            "(120,)\n",
            "(30,)\n"
          ],
          "name": "stdout"
        }
      ]
    },
    {
      "cell_type": "code",
      "metadata": {
        "id": "XLkT2tJHCQte",
        "colab_type": "code",
        "colab": {}
      },
      "source": [
        "from sklearn.neighbors import KNeighborsClassifier\n",
        "#import metrics model to check the accuracy \n",
        "from sklearn import metrics\n",
        "#Try running from k=1 through 25 and record testing accuracy\n",
        "k_range = range(1,26)\n",
        "scores = {}\n",
        "scores_list = []\n",
        "for k in k_range:\n",
        "        knn = KNeighborsClassifier(n_neighbors=k)\n",
        "        knn.fit(X_train,y_train)\n",
        "        y_pred=knn.predict(X_test)\n",
        "        scores[k] = metrics.accuracy_score(y_test,y_pred)\n",
        "        scores_list.append(metrics.accuracy_score(y_test,y_pred))\n"
      ],
      "execution_count": 0,
      "outputs": []
    },
    {
      "cell_type": "code",
      "metadata": {
        "id": "_rQ_U6_hGmeH",
        "colab_type": "code",
        "colab": {
          "base_uri": "https://localhost:8080/",
          "height": 472
        },
        "outputId": "2adac4cf-def4-449e-a087-c98befda019e"
      },
      "source": [
        "scores"
      ],
      "execution_count": 72,
      "outputs": [
        {
          "output_type": "execute_result",
          "data": {
            "text/plain": [
              "{1: 0.9333333333333333,\n",
              " 2: 0.9333333333333333,\n",
              " 3: 0.9666666666666667,\n",
              " 4: 0.9666666666666667,\n",
              " 5: 0.9666666666666667,\n",
              " 6: 0.9666666666666667,\n",
              " 7: 0.9666666666666667,\n",
              " 8: 0.9666666666666667,\n",
              " 9: 0.9666666666666667,\n",
              " 10: 0.9666666666666667,\n",
              " 11: 0.9666666666666667,\n",
              " 12: 0.9666666666666667,\n",
              " 13: 0.9666666666666667,\n",
              " 14: 0.9666666666666667,\n",
              " 15: 0.9666666666666667,\n",
              " 16: 0.9666666666666667,\n",
              " 17: 0.9666666666666667,\n",
              " 18: 0.9666666666666667,\n",
              " 19: 0.9666666666666667,\n",
              " 20: 0.9333333333333333,\n",
              " 21: 0.9666666666666667,\n",
              " 22: 0.9333333333333333,\n",
              " 23: 0.9666666666666667,\n",
              " 24: 0.9666666666666667,\n",
              " 25: 0.9666666666666667}"
            ]
          },
          "metadata": {
            "tags": []
          },
          "execution_count": 72
        }
      ]
    },
    {
      "cell_type": "code",
      "metadata": {
        "id": "xnDfMZObGpa6",
        "colab_type": "code",
        "colab": {
          "base_uri": "https://localhost:8080/",
          "height": 302
        },
        "outputId": "9755ad67-ed11-4997-946c-e275da8c8d01"
      },
      "source": [
        "%matplotlib inline\n",
        "import matplotlib.pyplot as plt\n",
        "\n",
        "#plot the relationship between K and the testing accuracy\n",
        "plt.plot(k_range,scores_list)\n",
        "plt.xlabel('Value of K for KNN')\n",
        "plt.ylabel('Testing Accuracy')\n"
      ],
      "execution_count": 73,
      "outputs": [
        {
          "output_type": "execute_result",
          "data": {
            "text/plain": [
              "Text(0, 0.5, 'Testing Accuracy')"
            ]
          },
          "metadata": {
            "tags": []
          },
          "execution_count": 73
        },
        {
          "output_type": "display_data",
          "data": {
            "image/png": "[encoded data removed]",
            "text/plain": [
              "<Figure size 432x288 with 1 Axes>"
            ]
          },
          "metadata": {
            "tags": []
          }
        }
      ]
    },
    {
      "cell_type": "code",
      "metadata": {
        "id": "ix-oh0yTGw9g",
        "colab_type": "code",
        "colab": {
          "base_uri": "https://localhost:8080/",
          "height": 72
        },
        "outputId": "50e1fae6-8727-4ed2-bb8d-62bd61534f6d"
      },
      "source": [
        "knn = KNeighborsClassifier(n_neighbors=5)\n",
        "knn.fit(X,y)\n"
      ],
      "execution_count": 74,
      "outputs": [
        {
          "output_type": "execute_result",
          "data": {
            "text/plain": [
              "KNeighborsClassifier(algorithm='auto', leaf_size=30, metric='minkowski',\n",
              "                     metric_params=None, n_jobs=None, n_neighbors=5, p=2,\n",
              "                     weights='uniform')"
            ]
          },
          "metadata": {
            "tags": []
          },
          "execution_count": 74
        }
      ]
    },
    {
      "cell_type": "code",
      "metadata": {
        "id": "zMPO3gR4G1cR",
        "colab_type": "code",
        "colab": {
          "base_uri": "https://localhost:8080/",
          "height": 54
        },
        "outputId": "9d384ed5-535a-4def-c43f-cc526988dd10"
      },
      "source": [
        "#0 = setosa, 1=versicolor, 2=virginica\n",
        "classes = {0:'setosa',1:'versicolor',2:'virginica'}\n",
        "\n",
        "#Making prediction on some unseen data \n",
        "#predict for the below two random observations\n",
        "x_new = [[3,4,5,2],\n",
        "         [5,4,2,2]]\n",
        "y_predict = knn.predict(x_new)\n",
        "\n",
        "print(classes[y_predict[0]])\n",
        "print(classes[y_predict[1]])\n"
      ],
      "execution_count": 75,
      "outputs": [
        {
          "output_type": "stream",
          "text": [
            "versicolor\n",
            "setosa\n"
          ],
          "name": "stdout"
        }
      ]
    },
    {
      "cell_type": "code",
      "metadata": {
        "id": "ti0mtdE4G7Lu",
        "colab_type": "code",
        "colab": {}
      },
      "source": [
        ""
      ],
      "execution_count": 0,
      "outputs": []
    }
  ]
}